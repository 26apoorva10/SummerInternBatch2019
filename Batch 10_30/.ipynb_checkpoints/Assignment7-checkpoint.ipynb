{
 "cells": [
  {
   "cell_type": "code",
   "execution_count": 1,
   "metadata": {},
   "outputs": [
    {
     "name": "stdout",
     "output_type": "stream",
     "text": [
      "enter first number: 45\n",
      "enter second number: 89\n",
      "89 is greater\n"
     ]
    }
   ],
   "source": [
    "a=int(input(\"enter first number: \"))\n",
    "b=int(input(\"enter second number: \"))\n",
    "if a>b:\n",
    "    print(\"{} is greater\".format(a))\n",
    "else:\n",
    "    print(\"{} is greater\".format(b))"
   ]
  },
  {
   "cell_type": "code",
   "execution_count": 7,
   "metadata": {},
   "outputs": [
    {
     "name": "stdout",
     "output_type": "stream",
     "text": [
      "enter a number: 0\n",
      "0 is equal to zero\n"
     ]
    }
   ],
   "source": [
    "a=eval(input(\"enter a number: \"))\n",
    "if a>0:\n",
    "    print(\"{} is positive\".format(a))\n",
    "elif a<0:\n",
    "    print(\"{} is negative\".format(a))\n",
    "elif a==0:\n",
    "    print(\"{} is equal to zero\".format(a))"
   ]
  },
  {
   "cell_type": "code",
   "execution_count": 10,
   "metadata": {},
   "outputs": [
    {
     "name": "stdout",
     "output_type": "stream",
     "text": [
      "enter a number: 165\n",
      "165 is divisible\n"
     ]
    }
   ],
   "source": [
    "a=eval(input(\"enter a number: \"))\n",
    "if a%5==0 and a%11==0:\n",
    "    print(\"{} is divisible\".format(a))\n",
    "else:\n",
    "    print(\"{} is not divisible\".format(a))"
   ]
  },
  {
   "cell_type": "code",
   "execution_count": 13,
   "metadata": {},
   "outputs": [
    {
     "name": "stdout",
     "output_type": "stream",
     "text": [
      "enter a number: 1900\n",
      "1900 is not a leap year\n"
     ]
    }
   ],
   "source": [
    "a=eval(input(\"enter a number: \"))\n",
    "if a%4==0:\n",
    "    if a%100==0:\n",
    "        if a%400==0:\n",
    "            print(\"{} is a leap year\".format(a))\n",
    "        else:\n",
    "            print(\"{} is not a leap year\".format(a))\n",
    "    else:\n",
    "        print(\"{} is a leap year\".format(a))\n",
    "else:\n",
    "    print(\"{} is not a leap yaer\".format(a))\n"
   ]
  },
  {
   "cell_type": "code",
   "execution_count": 27,
   "metadata": {},
   "outputs": [
    {
     "name": "stdout",
     "output_type": "stream",
     "text": [
      "enter a character: 5\n",
      "5 is not a character\n"
     ]
    }
   ],
   "source": [
    "ch=input(\"enter a character: \")\n",
    "if ch>='a' and ch<='z' or ch>='A' and ch<='Z':\n",
    "    print(ch,\"is a character\")\n",
    "else:\n",
    "    print(ch,\"is not a character\")"
   ]
  },
  {
   "cell_type": "code",
   "execution_count": 32,
   "metadata": {},
   "outputs": [
    {
     "name": "stdout",
     "output_type": "stream",
     "text": [
      "enter a character: h\n",
      "h is not a vowel,it is a consonant\n"
     ]
    }
   ],
   "source": [
    "ch=input(\"enter a character: \")\n",
    "if (ch=='a'or ch=='e'or ch=='i'or ch=='o'or ch=='u'or ch=='A'or ch=='E'or \n",
    "ch=='I'or ch=='O'or ch=='U'):\n",
    "    print(ch,\"is a vowel\")\n",
    "else:\n",
    "    print(ch,\"is not a vowel,it is a consonant\")"
   ]
  },
  {
   "cell_type": "code",
   "execution_count": 4,
   "metadata": {},
   "outputs": [
    {
     "name": "stdout",
     "output_type": "stream",
     "text": [
      "enter a character: L\n",
      "L is a uppercase character\n"
     ]
    }
   ],
   "source": [
    "ch=input(\"enter a character: \")\n",
    "if ch>='a'and ch<='z':\n",
    "    print(ch,\"is a lowercase character\")\n",
    "elif ch>='A'and ch<='Z':\n",
    "    print(ch,\"is a uppercase character\")\n",
    "else:\n",
    "    print(\"invalid character\")"
   ]
  },
  {
   "cell_type": "code",
   "execution_count": 6,
   "metadata": {},
   "outputs": [
    {
     "name": "stdout",
     "output_type": "stream",
     "text": [
      "enter a number: 9\n",
      "invalid input\n"
     ]
    }
   ],
   "source": [
    "a=int(input(\"enter a number: \"))\n",
    "if a==1:\n",
    "    print(\"sunday\")\n",
    "elif a==2:\n",
    "    print(\"monday\")\n",
    "elif a==3:\n",
    "    print(\"Tuesday\")\n",
    "elif a==4:\n",
    "    print(\"wednesday\")\n",
    "elif a==5:\n",
    "    print(\"thursday\")\n",
    "elif a==6:\n",
    "    print(\"friday\")\n",
    "elif a==7:\n",
    "    print(\"saturday\")\n",
    "else:\n",
    "    print(\"invalid input\")"
   ]
  },
  {
   "cell_type": "code",
   "execution_count": 9,
   "metadata": {},
   "outputs": [
    {
     "name": "stdout",
     "output_type": "stream",
     "text": [
      "enter a number: 2\n",
      "number of days in a month is 28 or 29\n"
     ]
    }
   ],
   "source": [
    "a=int(input(\"enter a number: \"))\n",
    "if a==1 or a==3 or a==5 or a==7 or a==8 or a==10 or a==12:\n",
    "    print(\"number of days in a month is 31\")\n",
    "elif a==4 or a==6 or a==9 or a==11:\n",
    "    print(\"number of days in a month is 30\")\n",
    "elif a==2:\n",
    "    print(\"number of days in a month is 28 or 29\")"
   ]
  },
  {
   "cell_type": "code",
   "execution_count": 11,
   "metadata": {},
   "outputs": [
    {
     "name": "stdout",
     "output_type": "stream",
     "text": [
      "enter first angle: 89\n",
      "enter second angle: 90\n",
      "enter third angle: 76\n",
      "Triangle is invalid\n"
     ]
    }
   ],
   "source": [
    "a=eval(input(\"enter first angle: \"))\n",
    "b=eval(input(\"enter second angle: \"))\n",
    "c=eval(input(\"enter third angle: \"))\n",
    "if a+b+c<=180:\n",
    "    print(\"Triangle is valid\")\n",
    "else:\n",
    "    print(\"Triangle is invalid\")"
   ]
  },
  {
   "cell_type": "code",
   "execution_count": 12,
   "metadata": {},
   "outputs": [
    {
     "name": "stdout",
     "output_type": "stream",
     "text": [
      "enter first side: 6\n",
      "enter second side: 7\n",
      "enter third side: 9\n",
      "Triangle is valid\n"
     ]
    }
   ],
   "source": [
    "a=eval(input(\"enter first side: \"))\n",
    "b=eval(input(\"enter second side: \"))\n",
    "c=eval(input(\"enter third side: \"))\n",
    "if a+b>=c:\n",
    "    print(\"Triangle is valid\")\n",
    "else:\n",
    "    print(\"Triangle is invalid\")"
   ]
  },
  {
   "cell_type": "code",
   "execution_count": 15,
   "metadata": {},
   "outputs": [
    {
     "name": "stdout",
     "output_type": "stream",
     "text": [
      "enter first side: 7\n",
      "enter second side: 8\n",
      "enter third side: 7\n",
      "Isosceles Triangle\n"
     ]
    }
   ],
   "source": [
    "a=eval(input(\"enter first side: \"))\n",
    "b=eval(input(\"enter second side: \"))\n",
    "c=eval(input(\"enter third side: \"))\n",
    "if a==b==c:\n",
    "    print(\"Equilateral Triangle\")\n",
    "elif a==b or b==c or c==a:\n",
    "    print(\"Isosceles Triangle\")\n",
    "elif a!=b or b!=c or c!=a:\n",
    "    print(\"Scalene Triangle\")"
   ]
  },
  {
   "cell_type": "code",
   "execution_count": 17,
   "metadata": {},
   "outputs": [
    {
     "name": "stdout",
     "output_type": "stream",
     "text": [
      "enter selling price: 100\n",
      "enter cost price: 67\n",
      "Profit\n"
     ]
    }
   ],
   "source": [
    "sp=eval(input(\"enter selling price: \"))\n",
    "cp=eval(input(\"enter cost price: \"))\n",
    "if sp>cp:\n",
    "    print(\"Profit\")\n",
    "elif sp==cp:\n",
    "    print(\"No profit and no loss\")\n",
    "else:\n",
    "    print(\"Loss\")"
   ]
  },
  {
   "cell_type": "code",
   "execution_count": 20,
   "metadata": {},
   "outputs": [
    {
     "name": "stdout",
     "output_type": "stream",
     "text": [
      "enter marks of physics: 80\n",
      "enter marks of chemistry: 90\n",
      "enter marks of maths: 89\n",
      "enter marks of biology: 90\n",
      "enter marks of computer: 78\n",
      "Grade B\n"
     ]
    }
   ],
   "source": [
    "p=eval(input(\"enter marks of physics: \"))\n",
    "c=eval(input(\"enter marks of chemistry: \"))\n",
    "m=eval(input(\"enter marks of maths: \"))\n",
    "b=eval(input(\"enter marks of biology: \"))\n",
    "comp=eval(input(\"enter marks of computer: \"))\n",
    "per=((p+c+m+b+comp)/500)*100\n",
    "if per>=90:\n",
    "    print(\"Grade A\")\n",
    "elif per>=80:\n",
    "    print(\"Grade B\")\n",
    "elif per>=70:\n",
    "    print(\"Grade C\")\n",
    "elif per>=60:\n",
    "    print(\"Grade D\")\n",
    "elif per>=40:\n",
    "    print(\"Grade E\")\n",
    "elif per<=40:\n",
    "    print(\"Grade F\")"
   ]
  },
  {
   "cell_type": "code",
   "execution_count": 22,
   "metadata": {},
   "outputs": [
    {
     "name": "stdout",
     "output_type": "stream",
     "text": [
      "enter the units consumed: 150\n",
      "Amount is 100.0\n",
      "total amount is 120.0\n"
     ]
    }
   ],
   "source": [
    "units=eval(input(\"enter the units consumed: \"))\n",
    "if units<=50:\n",
    "    amt=units*0.50\n",
    "    print(\"Amount is {}\".format(amt))\n",
    "elif units<=150:\n",
    "    amt=(50*0.50)+((units-50)*0.75)\n",
    "    print(\"Amount is {}\".format(amt))\n",
    "elif units<=250:\n",
    "    amt=(50*0.50)+(100*0.75)+((units-150)*1.20)\n",
    "    print(\"Amount is {}\".format(amt))\n",
    "else:\n",
    "    amt=(50*0.50)+(100*0.75)+(150*1.20)+((units-250)*1.50)\n",
    "    print(\"Amount is {}\".format(amt))\n",
    "add_charge=amt*0.20\n",
    "t_amt=amt+add_charge\n",
    "print(\"total amount is {}\".format(t_amt))"
   ]
  },
  {
   "cell_type": "code",
   "execution_count": null,
   "metadata": {},
   "outputs": [],
   "source": []
  }
 ],
 "metadata": {
  "kernelspec": {
   "display_name": "Python 3",
   "language": "python",
   "name": "python3"
  },
  "language_info": {
   "codemirror_mode": {
    "name": "ipython",
    "version": 3
   },
   "file_extension": ".py",
   "mimetype": "text/x-python",
   "name": "python",
   "nbconvert_exporter": "python",
   "pygments_lexer": "ipython3",
   "version": "3.7.3"
  }
 },
 "nbformat": 4,
 "nbformat_minor": 2
}
