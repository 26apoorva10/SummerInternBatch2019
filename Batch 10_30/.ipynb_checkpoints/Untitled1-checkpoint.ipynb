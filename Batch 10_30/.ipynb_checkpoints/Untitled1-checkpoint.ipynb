{
 "cells": [
  {
   "cell_type": "code",
   "execution_count": 1,
   "metadata": {},
   "outputs": [],
   "source": [
    "companies={\"Google\":{'Founder':'Larry Page & Sergey Brin','CEO':'Sundar Pichai','Year':1998,'Headquaters':'Mountain View CA'},\n",
    "           \"Amazon\":{'Founder':'Jeff Bezos','CEO':'Jeff Bezos','Year':1994,'Headquaters':'Seattle'},\n",
    "           \"Facebook\":{'Founder':'Mark Zuckerberg','CEO':'Mark Zukerberg','Year':2004,'Headquaters':'Menlo Park CA'},\n",
    "           \"Alibaba\":{'Founder':'Jack Ma','CEO':'Daniel Zhang','Year':1999,'Headquaters':'Hangzhou'},\n",
    "           \"Twitter\":{'Founder':'Jack Dorsey','CEO':'Jack Dorsey','Year':2006,'Headquaters':'San Francisco'}}"
   ]
  },
  {
   "cell_type": "code",
   "execution_count": 2,
   "metadata": {},
   "outputs": [
    {
     "data": {
      "text/plain": [
       "{'Founder': 'Larry Page & Sergey Brin',\n",
       " 'CEO': 'Sundar Pichai',\n",
       " 'Year': 1998,\n",
       " 'Headquaters': 'Mountain View CA'}"
      ]
     },
     "execution_count": 2,
     "metadata": {},
     "output_type": "execute_result"
    }
   ],
   "source": [
    "companies.get('google'.title())"
   ]
  },
  {
   "cell_type": "code",
   "execution_count": 3,
   "metadata": {},
   "outputs": [
    {
     "data": {
      "text/plain": [
       "'Larry Page & Sergey Brin'"
      ]
     },
     "execution_count": 3,
     "metadata": {},
     "output_type": "execute_result"
    }
   ],
   "source": [
    "companies['google'.title()]['Founder']"
   ]
  },
  {
   "cell_type": "code",
   "execution_count": 4,
   "metadata": {},
   "outputs": [
    {
     "name": "stdout",
     "output_type": "stream",
     "text": [
      "enter a number: 5\n",
      "5*1    =    5\n",
      "5*2    =   10\n",
      "5*3    =   15\n",
      "5*4    =   20\n",
      "5*5    =   25\n",
      "5*6    =   30\n",
      "5*7    =   35\n",
      "5*8    =   40\n",
      "5*9    =   45\n",
      "5*10   =   50\n"
     ]
    }
   ],
   "source": [
    "n=int(input(\"enter a number: \"))\n",
    "c=1\n",
    "while c<=10:\n",
    "    print(f\"{n}*{c: <5}={n*c: >5}\")\n",
    "    c+=1"
   ]
  },
  {
   "cell_type": "code",
   "execution_count": 11,
   "metadata": {},
   "outputs": [
    {
     "name": "stdout",
     "output_type": "stream",
     "text": [
      "enter a number: 5\n",
      "0    +    5\t=    5\n",
      "5    +    5\t=   10\n",
      "10   +    5\t=   15\n",
      "15   +    5\t=   20\n",
      "20   +    5\t=   25\n",
      "25   +    5\t=   30\n",
      "30   +    5\t=   35\n",
      "35   +    5\t=   40\n",
      "40   +    5\t=   45\n",
      "45   +    5\t=   50\n"
     ]
    }
   ],
   "source": [
    "n=int(input(\"enter a number: \"))\n",
    "s=0\n",
    "c=1\n",
    "while c<=10:\n",
    "    print(f\"{s:<5}+{n:>5}\\t={s+n:>5}\")\n",
    "    s=s+n\n",
    "    c=c+1\n",
    "    "
   ]
  },
  {
   "cell_type": "code",
   "execution_count": 6,
   "metadata": {},
   "outputs": [
    {
     "name": "stdout",
     "output_type": "stream",
     "text": [
      "99 , 97 , 95 , 93 , 91 , 89 , 87 , 85 , 83 , 81 , 79 , 77 , 75 , 73 , 71 , 69 , 67 , 65 , 63 , 61 , 59 , 57 , 55 , 53 , 51 , 49 , 47 , 45 , 43 , 41 , 39 , 37 , 35 , 33 , 31 , 29 , 27 , 25 , 23 , 21 , 19 , 17 , 15 , 13 , 11 , 9 , 7 , 5 , 3 , 1 , "
     ]
    }
   ],
   "source": [
    "c=99\n",
    "while c>=1:\n",
    "    print(f\"{c}\",end=' , ')\n",
    "    c=c-2"
   ]
  },
  {
   "cell_type": "code",
   "execution_count": 8,
   "metadata": {},
   "outputs": [
    {
     "name": "stdout",
     "output_type": "stream",
     "text": [
      "5,7,10,14,15,20,21,25,28,30,35,40,42,45,49,50,55,56,60,63,65,70,75,77,80,84,85,90,91,95,98,100,"
     ]
    }
   ],
   "source": [
    "c=1\n",
    "while c<=100:\n",
    "    if c%5==0 or c%7==0:\n",
    "        print(f\"{c}\",end=',')\n",
    "    c=c+1"
   ]
  },
  {
   "cell_type": "code",
   "execution_count": 9,
   "metadata": {},
   "outputs": [
    {
     "name": "stdout",
     "output_type": "stream",
     "text": [
      "35,70,"
     ]
    }
   ],
   "source": [
    "c=1\n",
    "while c<=100:\n",
    "    if c%5==0 and c%7==0:\n",
    "        print(c,end=',')\n",
    "    c=c+1"
   ]
  },
  {
   "cell_type": "code",
   "execution_count": 10,
   "metadata": {},
   "outputs": [
    {
     "name": "stdout",
     "output_type": "stream",
     "text": [
      "4\n",
      "10\n",
      "3\n",
      "6\n",
      "1\n",
      "5\n",
      "8\n",
      "8\n",
      "9\n",
      "4\n"
     ]
    }
   ],
   "source": [
    "from random import randint\n",
    "c=1\n",
    "while c<=10:#to stop loop we use break statement\n",
    "    print(randint(1,10))\n",
    "    c+=1\n",
    "    #if we use break else never works"
   ]
  },
  {
   "cell_type": "code",
   "execution_count": null,
   "metadata": {},
   "outputs": [],
   "source": []
  },
  {
   "cell_type": "code",
   "execution_count": 13,
   "metadata": {},
   "outputs": [
    {
     "name": "stdout",
     "output_type": "stream",
     "text": [
      "1,2,3,4,"
     ]
    }
   ],
   "source": [
    "c=1\n",
    "while c<=10:\n",
    "    if(c==5):\n",
    "        break\n",
    "    print(c,end=',')\n",
    "    c=c+1\n",
    "    \n",
    "else:\n",
    "    print(\"Loop Finished\")"
   ]
  },
  {
   "cell_type": "code",
   "execution_count": 17,
   "metadata": {},
   "outputs": [
    {
     "name": "stdout",
     "output_type": "stream",
     "text": [
      "enter a number: 5\n",
      "hello world\n",
      "enter a number: 8\n",
      "hello world\n",
      "enter a number: 90\n"
     ]
    }
   ],
   "source": [
    "while True:\n",
    "    n=int(input(\"enter a number: \"))\n",
    "    if n>=1 and n<=50:\n",
    "        print(\"hello world\")\n",
    "    else:\n",
    "        break"
   ]
  },
  {
   "cell_type": "code",
   "execution_count": 19,
   "metadata": {},
   "outputs": [
    {
     "name": "stdout",
     "output_type": "stream",
     "text": [
      "Press any key: g\n",
      "hello world\n",
      "Press any key: h\n",
      "hello world\n",
      "Press any key: j\n",
      "hello world\n",
      "Press any key: 6\n",
      "hello world\n",
      "Press any key: \n",
      "Bye world\n"
     ]
    }
   ],
   "source": [
    "while input(\"Press any key: \"):\n",
    "    print(\"hello world\")\n",
    "else:\n",
    "    print(\"Bye world\")"
   ]
  },
  {
   "cell_type": "code",
   "execution_count": 21,
   "metadata": {},
   "outputs": [
    {
     "name": "stdout",
     "output_type": "stream",
     "text": [
      "2\n",
      "4\n",
      "6\n",
      "8\n",
      "10\n"
     ]
    }
   ],
   "source": [
    "#Continue\n",
    "c=1\n",
    "while c<=10:\n",
    "    if(c%2==0):\n",
    "        print(c)\n",
    "    c=c+1\n",
    "    continue"
   ]
  },
  {
   "cell_type": "code",
   "execution_count": 8,
   "metadata": {},
   "outputs": [
    {
     "name": "stdout",
     "output_type": "stream",
     "text": [
      "enter a number: 56\n",
      "Warning,guess should be in range\n",
      "enter a number: 34\n",
      "number is high\n",
      "enter a number: 13\n",
      "number is low\n",
      "enter a number: 20\n",
      "number is low\n",
      "enter a number: 25\n",
      "number is high\n",
      "enter a number: 24\n",
      "you are the winner\n"
     ]
    }
   ],
   "source": [
    "from random import randint\n",
    "n=randint(1,50)\n",
    "c=1\n",
    "while c<=5:\n",
    "    player=int(input(\"enter a number: \"))\n",
    "    if(player==n):\n",
    "        print(\"you are the winner\")\n",
    "        break\n",
    "    elif(player>50):\n",
    "        print(\"Warning,guess should be in range\")\n",
    "        continue\n",
    "    elif(player<n):\n",
    "        print(\"number is low\")\n",
    "    elif(player>n):\n",
    "        print(\"number is high\")\n",
    "    c+=1\n",
    "    continue\n",
    "else:\n",
    "    print(\"guess: \",n)\n",
    "    print(\"you loose\")\n",
    "    "
   ]
  },
  {
   "cell_type": "markdown",
   "metadata": {},
   "source": [
    "###### "
   ]
  }
 ],
 "metadata": {
  "kernelspec": {
   "display_name": "Python 3",
   "language": "python",
   "name": "python3"
  },
  "language_info": {
   "codemirror_mode": {
    "name": "ipython",
    "version": 3
   },
   "file_extension": ".py",
   "mimetype": "text/x-python",
   "name": "python",
   "nbconvert_exporter": "python",
   "pygments_lexer": "ipython3",
   "version": "3.7.3"
  }
 },
 "nbformat": 4,
 "nbformat_minor": 2
}
